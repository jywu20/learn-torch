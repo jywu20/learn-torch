{
 "cells": [
  {
   "cell_type": "code",
   "execution_count": 1,
   "metadata": {},
   "outputs": [],
   "source": [
    "import torch\n",
    "from torch.utils.data import DataLoader, TensorDataset\n",
    "import torch.nn as nn\n",
    "import torch.nn.functional as F"
   ]
  },
  {
   "cell_type": "markdown",
   "metadata": {},
   "source": [
    "# Preparing the dataset"
   ]
  },
  {
   "cell_type": "code",
   "execution_count": 2,
   "metadata": {},
   "outputs": [],
   "source": [
    "from pathlib import Path\n",
    "import requests\n",
    "\n",
    "DATA_PATH = Path(\"data\")\n",
    "PATH = DATA_PATH / \"mnist\"\n",
    "\n",
    "PATH.mkdir(parents=True, exist_ok=True)\n",
    "\n",
    "URL = \"https://github.com/pytorch/tutorials/raw/main/_static/\"\n",
    "FILENAME = \"mnist.pkl.gz\"\n",
    "\n",
    "if not (PATH / FILENAME).exists():\n",
    "    content = requests.get(URL + FILENAME).content\n",
    "    (PATH / FILENAME).open(\"wb\").write(content)"
   ]
  },
  {
   "cell_type": "code",
   "execution_count": 3,
   "metadata": {},
   "outputs": [],
   "source": [
    "import pickle\n",
    "import gzip\n",
    "\n",
    "with gzip.open((PATH / FILENAME).as_posix(), \"rb\") as f:\n",
    "    ((x_train, y_train), (x_valid, y_valid), _) = pickle.load(f, encoding=\"latin-1\")"
   ]
  },
  {
   "cell_type": "code",
   "execution_count": 4,
   "metadata": {},
   "outputs": [
    {
     "data": {
      "image/png": "[encoded data removed]",
      "text/plain": [
       "<Figure size 640x480 with 1 Axes>"
      ]
     },
     "metadata": {},
     "output_type": "display_data"
    }
   ],
   "source": [
    "from matplotlib import pyplot\n",
    "import numpy as np\n",
    "\n",
    "pyplot.imshow(x_train[0].reshape((28, 28)), cmap=\"gray\")\n",
    "pyplot.show()"
   ]
  },
  {
   "cell_type": "markdown",
   "metadata": {},
   "source": [
    "Putting the data into PyTorch ecosystem"
   ]
  },
  {
   "cell_type": "code",
   "execution_count": 5,
   "metadata": {},
   "outputs": [
    {
     "name": "stdout",
     "output_type": "stream",
     "text": [
      "tensor([[0., 0., 0.,  ..., 0., 0., 0.],\n",
      "        [0., 0., 0.,  ..., 0., 0., 0.],\n",
      "        [0., 0., 0.,  ..., 0., 0., 0.],\n",
      "        ...,\n",
      "        [0., 0., 0.,  ..., 0., 0., 0.],\n",
      "        [0., 0., 0.,  ..., 0., 0., 0.],\n",
      "        [0., 0., 0.,  ..., 0., 0., 0.]]) tensor([5, 0, 4,  ..., 8, 4, 8])\n",
      "torch.Size([50000, 784]) torch.Size([50000])\n",
      "tensor(0) tensor(9)\n"
     ]
    }
   ],
   "source": [
    "x_train, y_train, x_valid, y_valid = map(\n",
    "    torch.tensor, (x_train, y_train, x_valid, y_valid)\n",
    ")\n",
    "n, c = x_train.shape\n",
    "print(x_train, y_train)\n",
    "print(x_train.shape, y_train.shape) # The size of each x is 784, which is 28**2.\n",
    "print(y_train.min(), y_train.max()) # You can see the range is 0..9\n",
    "\n",
    "bs = 64\n",
    "train_dataset = DataLoader(TensorDataset(x_train, y_train), batch_size=bs)"
   ]
  },
  {
   "cell_type": "markdown",
   "metadata": {},
   "source": [
    "# Defining the model"
   ]
  },
  {
   "cell_type": "code",
   "execution_count": 6,
   "metadata": {},
   "outputs": [],
   "source": [
    "class MnistCNN(nn.Module):\n",
    "    def __init__(self):\n",
    "        super().__init__()\n",
    "        self.conv1 = nn.Conv2d(1, 16, kernel_size=3, stride=2, padding=1)\n",
    "        self.conv2 = nn.Conv2d(16, 16, kernel_size=3, stride=2, padding=1)\n",
    "        self.conv3 = nn.Conv2d(16, 10, kernel_size=3, stride=2, padding=1)\n",
    "        self.logsoftmax = nn.LogSoftmax(dim=1)\n",
    "        \n",
    "    def forward(self, xb):\n",
    "        # xb is a batch, its first dimension corresponding to samples index in the batch.\n",
    "        # Since the first convolution layer assumes there to be one channel,\n",
    "        # we have to unsqueeze xb to create another dimension corresponding to the channel index.\n",
    "        # Therefore the new shape becomes (number of samples, 1, 28, 28)\n",
    "        xb = xb.reshape(-1, 1, 28, 28) \n",
    "        xb = F.relu(self.conv1(xb)) \n",
    "        xb = F.relu(self.conv2(xb))\n",
    "        xb = F.relu(self.conv3(xb))\n",
    "        # Here 4 is the pooling kernel; that's to say, \n",
    "        # if the input is 10×4×4, then the output is 10×1×1.\n",
    "        # Therefore after xb.view, the output dimension becomes 10,\n",
    "        # or to be more precise, number of sample in input batch × 10.\n",
    "        xb = F.avg_pool2d(xb, 4)\n",
    "        xb = xb.view(-1, xb.size(1))\n",
    "        # Be cautious about whether to add the activation function here: \n",
    "        # it depends on the loss function and how the output of the model is interpreted.\n",
    "        return self.logsoftmax(xb) \n"
   ]
  },
  {
   "cell_type": "markdown",
   "metadata": {},
   "source": [
    "# Training"
   ]
  },
  {
   "cell_type": "code",
   "execution_count": 7,
   "metadata": {},
   "outputs": [],
   "source": [
    "def accuracy(out, yb):\n",
    "    preds = torch.argmax(out, dim=1)\n",
    "    return (preds == yb).float().mean()"
   ]
  },
  {
   "cell_type": "code",
   "execution_count": 15,
   "metadata": {},
   "outputs": [],
   "source": [
    "dev = torch.device(\"cuda\") if torch.cuda.is_available() else torch.device(\"cpu\")\n",
    "model = MnistCNN().to(dev)\n",
    "x_valid = x_valid.to(dev)\n",
    "y_valid = y_valid.to(dev)\n",
    "loss_func = nn.NLLLoss()"
   ]
  },
  {
   "cell_type": "code",
   "execution_count": 16,
   "metadata": {},
   "outputs": [
    {
     "name": "stdout",
     "output_type": "stream",
     "text": [
      "epoch:   0   accuracy: 0.109000\n",
      "epoch:   1   accuracy: 0.109000\n",
      "epoch:   2   accuracy: 0.109000\n",
      "epoch:   3   accuracy: 0.226900\n",
      "epoch:   4   accuracy: 0.261200\n",
      "epoch:   5   accuracy: 0.345800\n",
      "epoch:   6   accuracy: 0.387400\n",
      "epoch:   7   accuracy: 0.466600\n",
      "epoch:   8   accuracy: 0.539500\n",
      "epoch:   9   accuracy: 0.614500\n",
      "epoch:  10   accuracy: 0.665400\n",
      "epoch:  11   accuracy: 0.712100\n",
      "epoch:  12   accuracy: 0.747000\n",
      "epoch:  13   accuracy: 0.779700\n",
      "epoch:  14   accuracy: 0.803400\n",
      "epoch:  15   accuracy: 0.819900\n",
      "epoch:  16   accuracy: 0.829800\n",
      "epoch:  17   accuracy: 0.838000\n",
      "epoch:  18   accuracy: 0.845000\n",
      "epoch:  19   accuracy: 0.851400\n",
      "epoch:  20   accuracy: 0.856500\n",
      "epoch:  21   accuracy: 0.861000\n",
      "epoch:  22   accuracy: 0.862900\n",
      "epoch:  23   accuracy: 0.863900\n",
      "epoch:  24   accuracy: 0.866100\n",
      "epoch:  25   accuracy: 0.868600\n",
      "epoch:  26   accuracy: 0.868000\n",
      "epoch:  27   accuracy: 0.869800\n",
      "epoch:  28   accuracy: 0.874300\n",
      "epoch:  29   accuracy: 0.876300\n",
      "epoch:  30   accuracy: 0.875400\n",
      "epoch:  31   accuracy: 0.875000\n",
      "epoch:  32   accuracy: 0.875200\n",
      "epoch:  33   accuracy: 0.876600\n",
      "epoch:  34   accuracy: 0.878000\n",
      "epoch:  35   accuracy: 0.878600\n",
      "epoch:  36   accuracy: 0.878700\n",
      "epoch:  37   accuracy: 0.878000\n",
      "epoch:  38   accuracy: 0.878500\n",
      "epoch:  39   accuracy: 0.880200\n",
      "epoch:  40   accuracy: 0.880800\n",
      "epoch:  41   accuracy: 0.881400\n",
      "epoch:  42   accuracy: 0.881400\n",
      "epoch:  43   accuracy: 0.883300\n",
      "epoch:  44   accuracy: 0.885400\n",
      "epoch:  45   accuracy: 0.886200\n",
      "epoch:  46   accuracy: 0.886100\n",
      "epoch:  47   accuracy: 0.887200\n",
      "epoch:  48   accuracy: 0.887400\n",
      "epoch:  49   accuracy: 0.888000\n"
     ]
    },
    {
     "data": {
      "text/plain": [
       "[<matplotlib.lines.Line2D at 0x7fe6ac77af30>]"
      ]
     },
     "execution_count": 16,
     "metadata": {},
     "output_type": "execute_result"
    },
    {
     "data": {
      "image/png": "[encoded data removed]",
      "text/plain": [
       "<Figure size 640x480 with 1 Axes>"
      ]
     },
     "metadata": {},
     "output_type": "display_data"
    }
   ],
   "source": [
    "n_epoch = 50\n",
    "lr = 0.1\n",
    "max_samples = 100\n",
    "\n",
    "accuracies = np.zeros(n_epoch)\n",
    "\n",
    "optimizer = torch.optim.SGD(model.parameters(), lr=lr)\n",
    "\n",
    "for epoch in range(n_epoch):\n",
    "    model.train()\n",
    "    i = 0\n",
    "    \n",
    "    for xb, yb in train_dataset:\n",
    "        if i == max_samples:\n",
    "            break\n",
    "\n",
    "        xb = xb.to(dev)\n",
    "        yb = yb.to(dev)\n",
    "\n",
    "        pred = model(xb)\n",
    "        loss = loss_func(pred, yb)\n",
    "        \n",
    "        loss.backward()\n",
    "        optimizer.step()        \n",
    "        optimizer.zero_grad()\n",
    "        i += 1\n",
    "    \n",
    "    model.eval()\n",
    "    with torch.no_grad():\n",
    "        acc = accuracy(model(x_valid), y_valid).item()\n",
    "        accuracies[epoch] = acc\n",
    "        print(f\"epoch: {epoch:>3d}   accuracy: {acc:>5f}\")\n",
    "        \n",
    "pyplot.plot(accuracies)"
   ]
  },
  {
   "cell_type": "code",
   "execution_count": 17,
   "metadata": {},
   "outputs": [
    {
     "name": "stdout",
     "output_type": "stream",
     "text": [
      "epoch:   0   accuracy: 0.908300\n",
      "epoch:   1   accuracy: 0.907700\n",
      "epoch:   2   accuracy: 0.907600\n",
      "epoch:   3   accuracy: 0.908000\n",
      "epoch:   4   accuracy: 0.908300\n",
      "epoch:   5   accuracy: 0.908200\n",
      "epoch:   6   accuracy: 0.908100\n",
      "epoch:   7   accuracy: 0.907800\n",
      "epoch:   8   accuracy: 0.908200\n",
      "epoch:   9   accuracy: 0.908700\n",
      "epoch:  10   accuracy: 0.908900\n",
      "epoch:  11   accuracy: 0.908900\n",
      "epoch:  12   accuracy: 0.909000\n",
      "epoch:  13   accuracy: 0.909300\n",
      "epoch:  14   accuracy: 0.909500\n",
      "epoch:  15   accuracy: 0.909500\n",
      "epoch:  16   accuracy: 0.909500\n",
      "epoch:  17   accuracy: 0.909700\n",
      "epoch:  18   accuracy: 0.909900\n",
      "epoch:  19   accuracy: 0.910000\n",
      "epoch:  20   accuracy: 0.910000\n",
      "epoch:  21   accuracy: 0.910100\n",
      "epoch:  22   accuracy: 0.909900\n",
      "epoch:  23   accuracy: 0.909600\n",
      "epoch:  24   accuracy: 0.909900\n",
      "epoch:  25   accuracy: 0.910200\n",
      "epoch:  26   accuracy: 0.910300\n",
      "epoch:  27   accuracy: 0.910400\n",
      "epoch:  28   accuracy: 0.910500\n",
      "epoch:  29   accuracy: 0.910300\n",
      "epoch:  30   accuracy: 0.910500\n",
      "epoch:  31   accuracy: 0.910900\n",
      "epoch:  32   accuracy: 0.910800\n",
      "epoch:  33   accuracy: 0.910900\n",
      "epoch:  34   accuracy: 0.910900\n",
      "epoch:  35   accuracy: 0.911100\n",
      "epoch:  36   accuracy: 0.911500\n",
      "epoch:  37   accuracy: 0.911500\n",
      "epoch:  38   accuracy: 0.911600\n",
      "epoch:  39   accuracy: 0.911600\n",
      "epoch:  40   accuracy: 0.911400\n",
      "epoch:  41   accuracy: 0.911400\n",
      "epoch:  42   accuracy: 0.911300\n",
      "epoch:  43   accuracy: 0.911100\n",
      "epoch:  44   accuracy: 0.910800\n",
      "epoch:  45   accuracy: 0.910900\n",
      "epoch:  46   accuracy: 0.910900\n",
      "epoch:  47   accuracy: 0.910800\n",
      "epoch:  48   accuracy: 0.911000\n",
      "epoch:  49   accuracy: 0.911300\n"
     ]
    },
    {
     "data": {
      "text/plain": [
       "[<matplotlib.lines.Line2D at 0x7fe6ac7ef440>]"
      ]
     },
     "execution_count": 17,
     "metadata": {},
     "output_type": "execute_result"
    },
    {
     "data": {
      "image/png": "[encoded data removed]",
      "text/plain": [
       "<Figure size 640x480 with 1 Axes>"
      ]
     },
     "metadata": {},
     "output_type": "display_data"
    }
   ],
   "source": [
    "n_epoch = 50\n",
    "lr = 0.02\n",
    "max_samples = 100\n",
    "\n",
    "accuracies = np.zeros(n_epoch)\n",
    "\n",
    "optimizer = torch.optim.SGD(model.parameters(), lr=lr)\n",
    "\n",
    "for epoch in range(n_epoch):\n",
    "    model.train()\n",
    "    i = 0\n",
    "    \n",
    "    for xb, yb in train_dataset:\n",
    "        if i == max_samples:\n",
    "            break\n",
    "\n",
    "        xb = xb.to(dev)\n",
    "        yb = yb.to(dev)\n",
    "\n",
    "        pred = model(xb)\n",
    "        loss = loss_func(pred, yb)\n",
    "        \n",
    "        loss.backward()\n",
    "        optimizer.step()        \n",
    "        optimizer.zero_grad()\n",
    "        i += 1\n",
    "    \n",
    "    model.eval()\n",
    "    with torch.no_grad():\n",
    "        acc = accuracy(model(x_valid), y_valid).item()\n",
    "        accuracies[epoch] = acc\n",
    "        print(f\"epoch: {epoch:>3d}   accuracy: {acc:>5f}\")\n",
    "        \n",
    "pyplot.plot(accuracies)"
   ]
  },
  {
   "cell_type": "code",
   "execution_count": 20,
   "metadata": {},
   "outputs": [
    {
     "name": "stdout",
     "output_type": "stream",
     "text": [
      "887\n"
     ]
    }
   ],
   "source": [
    "with torch.no_grad():\n",
    "    idxlist_fail = []\n",
    "    for i in range(y_valid.shape[0]):\n",
    "        n_pred = model(x_valid[i, :].unsqueeze(0).to(dev)).argmax().item()\n",
    "        n_real = y_valid[i].item()\n",
    "        if n_pred != n_real:\n",
    "            idxlist_fail.append(i) \n",
    "    \n",
    "    print(len(idxlist_fail))"
   ]
  },
  {
   "cell_type": "code",
   "execution_count": null,
   "metadata": {},
   "outputs": [],
   "source": []
  }
 ],
 "metadata": {
  "kernelspec": {
   "display_name": "torch",
   "language": "python",
   "name": "python3"
  },
  "language_info": {
   "codemirror_mode": {
    "name": "ipython",
    "version": 3
   },
   "file_extension": ".py",
   "mimetype": "text/x-python",
   "name": "python",
   "nbconvert_exporter": "python",
   "pygments_lexer": "ipython3",
   "version": "3.12.2"
  }
 },
 "nbformat": 4,
 "nbformat_minor": 2
}

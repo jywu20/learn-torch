{
 "cells": [
  {
   "cell_type": "code",
   "execution_count": 2,
   "metadata": {},
   "outputs": [],
   "source": [
    "import torch\n",
    "# For dataset preparation\n",
    "from torch.utils.data import DataLoader\n",
    "from torchvision import datasets\n",
    "from torchvision.transforms import ToTensor\n",
    "# For building neural networks\n",
    "import torch.nn as nn\n",
    "import torch.nn.functional as F\n",
    "# For training\n",
    "from torch.optim import SGD"
   ]
  },
  {
   "cell_type": "markdown",
   "metadata": {},
   "source": [
    "# Preparing the dataset"
   ]
  },
  {
   "cell_type": "code",
   "execution_count": 3,
   "metadata": {},
   "outputs": [],
   "source": [
    "training_data = datasets.MNIST(\n",
    "    # Where the data are stored. If this is a relative path, \n",
    "    # the path is assumed to start from the current working directory. \n",
    "    # Therefore you can find a data folder coming together with this notebook.\n",
    "    root=\"./data\",  \n",
    "    train=True, \n",
    "    download=True,\n",
    "    transform=ToTensor()\n",
    ")\n",
    "\n",
    "test_data = datasets.MNIST(\n",
    "    root=\"./data\",\n",
    "    train=False,\n",
    "    download=True,\n",
    "    transform=ToTensor(),\n",
    ")"
   ]
  },
  {
   "cell_type": "code",
   "execution_count": 4,
   "metadata": {},
   "outputs": [],
   "source": [
    "batch_size = 64\n",
    "training_dataloader = DataLoader(training_data, batch_size=batch_size, shuffle=True)\n",
    "test_dataloader = DataLoader(test_data, batch_size=len(test_data), shuffle=False)"
   ]
  },
  {
   "cell_type": "markdown",
   "metadata": {},
   "source": [
    "# Defining the model"
   ]
  },
  {
   "cell_type": "markdown",
   "metadata": {},
   "source": [
    "Below is the shape of each image in the training dataset:\n",
    "we have one \"channel\" which is used probably used for CNN models."
   ]
  },
  {
   "cell_type": "code",
   "execution_count": 5,
   "metadata": {},
   "outputs": [
    {
     "data": {
      "text/plain": [
       "torch.Size([1, 28, 28])"
      ]
     },
     "execution_count": 5,
     "metadata": {},
     "output_type": "execute_result"
    }
   ],
   "source": [
    "training_data[0][0].shape"
   ]
  },
  {
   "cell_type": "code",
   "execution_count": 6,
   "metadata": {},
   "outputs": [],
   "source": [
    "class EncoderMLP(nn.Module):\n",
    "    def __init__(self, latent_dim):\n",
    "        super().__init__()\n",
    "        self.linear1 = nn.Linear(784, 512)\n",
    "        self.linear2 = nn.Linear(512, latent_dim)\n",
    "        \n",
    "    def forward(self, xb):\n",
    "        # Since we are not defining a CNN, \n",
    "        # we just ignore the channel dimension \n",
    "        # and collapse everything into one dimension.\n",
    "        xb = torch.flatten(xb, start_dim=1)\n",
    "        xb = self.linear1(xb)\n",
    "        xb = F.relu(xb)\n",
    "        xb = self.linear2(xb)\n",
    "        return xb"
   ]
  },
  {
   "cell_type": "markdown",
   "metadata": {},
   "source": [
    "The structure of the decoder, in our simple demo,\n",
    "is exactly the opposite to that of the encoder.\n",
    "But the activation function is different:\n",
    "we need sigmoid to make sure the output is properly normalized."
   ]
  },
  {
   "cell_type": "code",
   "execution_count": 7,
   "metadata": {},
   "outputs": [],
   "source": [
    "class DecoderMLP(nn.Module):\n",
    "    def __init__(self, latent_dim):\n",
    "        super().__init__()\n",
    "        self.linear1 = nn.Linear(latent_dim, 512)\n",
    "        self.linear2 = nn.Linear(512, 784)\n",
    "        \n",
    "    def forward(self, xb):\n",
    "        xb = self.linear1(xb)\n",
    "        xb = F.sigmoid(xb)\n",
    "        xb = self.linear2(xb)\n",
    "        # Make sure the shape of the output tensor looks the same as \n",
    "        # that of the input data.\n",
    "        # Since xb in the last step has the batch dimension as the first dimension. \n",
    "        xb = torch.reshape(xb, (-1, 1, 28, 28)) \n",
    "        return xb"
   ]
  },
  {
   "cell_type": "markdown",
   "metadata": {},
   "source": [
    "We still need to glue the encoder and the decoder together into the shape of an hourglass."
   ]
  },
  {
   "cell_type": "code",
   "execution_count": 8,
   "metadata": {},
   "outputs": [],
   "source": [
    "class AutoencoderMLP(nn.Module):\n",
    "    def __init__(self, latent_dim):\n",
    "        super().__init__()\n",
    "        self.encoder = EncoderMLP(latent_dim)\n",
    "        self.decoder = DecoderMLP(latent_dim)\n",
    "        \n",
    "    def forward(self, xb):\n",
    "        z = self.encoder(xb)\n",
    "        return self.decoder(z)"
   ]
  },
  {
   "cell_type": "markdown",
   "metadata": {},
   "source": [
    "# Training"
   ]
  },
  {
   "cell_type": "markdown",
   "metadata": {},
   "source": [
    "We define the model here:"
   ]
  },
  {
   "cell_type": "code",
   "execution_count": 9,
   "metadata": {},
   "outputs": [],
   "source": [
    "latent_dim = 2 \n",
    "ae = AutoencoderMLP(latent_dim)"
   ]
  },
  {
   "cell_type": "markdown",
   "metadata": {},
   "source": [
    "See whether CUDA is needed."
   ]
  },
  {
   "cell_type": "code",
   "execution_count": 10,
   "metadata": {},
   "outputs": [],
   "source": [
    "device = 'cuda' if torch.cuda.is_available() else 'cpu'\n",
    "ae = ae.to(device)"
   ]
  },
  {
   "cell_type": "code",
   "execution_count": 11,
   "metadata": {},
   "outputs": [],
   "source": [
    "def train(model, dataloader, lr, epoches):\n",
    "    optimizer = SGD(model.parameters(), lr=lr)\n",
    "    for epoch in range(epoches):\n",
    "        model.train()\n",
    "        for X, Y in dataloader:\n",
    "            X = X.to(device)\n",
    "            Y = Y.to(device)\n",
    "            \n",
    "            Xhat = model(X) \n",
    "            loss = ((X - Xhat)**2).sum()\n",
    "            loss.backward()\n",
    "            optimizer.step()\n",
    "            optimizer.zero_grad()\n",
    "        \n",
    "        model.eval() \n",
    "        with torch.no_grad():\n",
    "            for X, Y in test_dataloader:\n",
    "                X = X.to(device)\n",
    "                Y = Y.to(device)\n",
    "                \n",
    "                Xhat = model(X) \n",
    "                loss = ((X - Xhat)**2).mean().item()\n",
    "\n",
    "                print(f\"epoch {epoch:>3d}   test loss avg: {loss:>5f}\")"
   ]
  },
  {
   "cell_type": "code",
   "execution_count": 12,
   "metadata": {},
   "outputs": [
    {
     "name": "stdout",
     "output_type": "stream",
     "text": [
      "epoch   0   test loss avg: 0.067729\n",
      "epoch   1   test loss avg: 0.067714\n",
      "epoch   2   test loss avg: 0.067673\n",
      "epoch   3   test loss avg: 0.067584\n",
      "epoch   4   test loss avg: 0.067661\n"
     ]
    }
   ],
   "source": [
    "train(ae, training_dataloader, lr=0.002, epoches=5)"
   ]
  },
  {
   "cell_type": "markdown",
   "metadata": {},
   "source": [
    "# Checking if the autoencoder works well"
   ]
  },
  {
   "cell_type": "code",
   "execution_count": 13,
   "metadata": {},
   "outputs": [],
   "source": [
    "import matplotlib.pyplot as plt"
   ]
  },
  {
   "cell_type": "code",
   "execution_count": 18,
   "metadata": {},
   "outputs": [
    {
     "data": {
      "image/png": "[encoded data removed]",
      "text/plain": [
       "<Figure size 640x480 with 2 Axes>"
      ]
     },
     "metadata": {},
     "output_type": "display_data"
    }
   ],
   "source": [
    "x, y = test_data[10]\n",
    "x = x.to(device)\n",
    "with torch.no_grad():\n",
    "    plt.subplot(1, 2, 1)\n",
    "    plt.imshow(x.to(\"cpu\")[0, :, :], cmap=\"gray\")\n",
    "    plt.subplot(1, 2, 2)\n",
    "    plt.imshow(ae(x).to(\"cpu\")[0, 0, :, :], cmap=\"gray\")\n",
    "    plt.show()"
   ]
  },
  {
   "cell_type": "code",
   "execution_count": null,
   "metadata": {},
   "outputs": [],
   "source": []
  }
 ],
 "metadata": {
  "kernelspec": {
   "display_name": "torch",
   "language": "python",
   "name": "python3"
  },
  "language_info": {
   "codemirror_mode": {
    "name": "ipython",
    "version": 3
   },
   "file_extension": ".py",
   "mimetype": "text/x-python",
   "name": "python",
   "nbconvert_exporter": "python",
   "pygments_lexer": "ipython3",
   "version": "3.12.2"
  }
 },
 "nbformat": 4,
 "nbformat_minor": 2
}

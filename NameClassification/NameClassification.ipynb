{
 "cells": [
  {
   "cell_type": "code",
   "execution_count": 1,
   "metadata": {},
   "outputs": [],
   "source": [
    "from io import open\n",
    "import glob \n",
    "import os"
   ]
  },
  {
   "cell_type": "markdown",
   "metadata": {},
   "source": [
    "We enumerate files in the `data` folder."
   ]
  },
  {
   "cell_type": "code",
   "execution_count": 2,
   "metadata": {},
   "outputs": [
    {
     "name": "stdout",
     "output_type": "stream",
     "text": [
      "['data/names/Spanish.txt', 'data/names/Czech.txt', 'data/names/Russian.txt', 'data/names/Italian.txt', 'data/names/Portuguese.txt', 'data/names/Scottish.txt', 'data/names/Greek.txt', 'data/names/English.txt', 'data/names/French.txt', 'data/names/Chinese.txt', 'data/names/Irish.txt', 'data/names/Arabic.txt', 'data/names/Korean.txt', 'data/names/Japanese.txt', 'data/names/Vietnamese.txt', 'data/names/Polish.txt', 'data/names/Dutch.txt', 'data/names/German.txt']\n"
     ]
    }
   ],
   "source": [
    "def findFiles(path):\n",
    "    return glob.glob(path)\n",
    "\n",
    "print(findFiles(\"data/names/*.txt\"))"
   ]
  },
  {
   "cell_type": "markdown",
   "metadata": {},
   "source": [
    "To simply our task, we \"regularize\" the names and, say, turn à to a."
   ]
  },
  {
   "cell_type": "code",
   "execution_count": 3,
   "metadata": {},
   "outputs": [
    {
     "data": {
      "text/plain": [
       "'Slusarski'"
      ]
     },
     "execution_count": 3,
     "metadata": {},
     "output_type": "execute_result"
    }
   ],
   "source": [
    "import unicodedata\n",
    "import string\n",
    "\n",
    "all_letters = string.ascii_letters + \" ,.;\"\n",
    "n_letters = len(all_letters)\n",
    "\n",
    "\"\"\"\n",
    "Remove symbols like accent. For example Ś is turned into S.\n",
    "\"\"\"\n",
    "def unicodeToAscii(s):\n",
    "    return ''.join(\n",
    "        c for c in unicodedata.normalize('NFD', s)\n",
    "        if unicodedata.category(c) != 'Mn' and c in all_letters\n",
    "    )\n",
    "\n",
    "unicodeToAscii(\"Ślusàrski\")"
   ]
  },
  {
   "cell_type": "markdown",
   "metadata": {},
   "source": [
    "Read the data files and regularize the names."
   ]
  },
  {
   "cell_type": "code",
   "execution_count": 4,
   "metadata": {},
   "outputs": [],
   "source": [
    "# Build the category_lines dictionary, a list of names per language\n",
    "# all_categories: a list of \"categories\" i.e. languages\n",
    "# category_lines: a map from language names to person names in these languages;\n",
    "#   the word \"lines\" is used because in the sample files, each name is a line.\n",
    "category_lines = {}\n",
    "all_categories = []\n",
    "\n",
    "# Read a file and split into lines\n",
    "def readLines(filename):\n",
    "    lines = open(filename, encoding='utf-8').read().strip().split('\\n')\n",
    "    return [unicodeToAscii(line) for line in lines]\n",
    "\n",
    "for filename in findFiles('data/names/*.txt'):\n",
    "    # Separate the name of the language from the path:\n",
    "    # for example from \"data/names/Chinese.txt\" to \"Chinese\"\n",
    "    category = os.path.splitext(os.path.basename(filename))[0]\n",
    "    all_categories.append(category)\n",
    "    lines = readLines(filename)\n",
    "    category_lines[category] = lines\n",
    "\n",
    "n_categories = len(all_categories)"
   ]
  },
  {
   "cell_type": "code",
   "execution_count": 5,
   "metadata": {},
   "outputs": [
    {
     "name": "stdout",
     "output_type": "stream",
     "text": [
      "['Spanish', 'Czech', 'Russian', 'Italian', 'Portuguese', 'Scottish', 'Greek', 'English', 'French', 'Chinese', 'Irish', 'Arabic', 'Korean', 'Japanese', 'Vietnamese', 'Polish', 'Dutch', 'German']\n",
      "['Abandonato', 'Abatangelo', 'Abatantuono', 'Abate', 'Abategiovanni']\n"
     ]
    }
   ],
   "source": [
    "print(all_categories)\n",
    "print(category_lines['Italian'][:5])"
   ]
  },
  {
   "cell_type": "markdown",
   "metadata": {},
   "source": [
    "# Embedding"
   ]
  },
  {
   "cell_type": "markdown",
   "metadata": {},
   "source": [
    "For a RNN, each letter is fed to one RNN cell, and one RNN cell is just a neural network,\n",
    "so (the embedding of) each letter should have the shape of `(1, the_true_size)`."
   ]
  },
  {
   "cell_type": "code",
   "execution_count": 6,
   "metadata": {},
   "outputs": [
    {
     "data": {
      "text/plain": [
       "tensor([[0., 0., 0., 0., 0., 0., 0., 0., 0., 0., 0., 0., 0., 0., 0., 0., 0., 0.,\n",
       "         0., 0., 0., 0., 0., 0., 0., 0., 0., 0., 0., 0., 0., 0., 0., 0., 0., 1.,\n",
       "         0., 0., 0., 0., 0., 0., 0., 0., 0., 0., 0., 0., 0., 0., 0., 0., 0., 0.,\n",
       "         0., 0.]])"
      ]
     },
     "execution_count": 6,
     "metadata": {},
     "output_type": "execute_result"
    }
   ],
   "source": [
    "import torch\n",
    "\n",
    "def letterToIndex(letter):\n",
    "    return all_letters.find(letter)\n",
    "\n",
    "def letterToTensor(letter):\n",
    "    tensor = torch.zeros(1, n_letters)\n",
    "    tensor[0, letterToIndex(letter)] = 1.0\n",
    "    return tensor\n",
    "\n",
    "letterToTensor(\"J\")\n"
   ]
  },
  {
   "cell_type": "code",
   "execution_count": 7,
   "metadata": {},
   "outputs": [
    {
     "data": {
      "text/plain": [
       "tensor([[[0., 0., 0., 0., 0., 0., 0., 0., 0., 0., 0., 0., 0., 0., 0., 0., 0.,\n",
       "          0., 0., 0., 0., 0., 0., 0., 0., 0., 0., 0., 0., 0., 0., 0., 0., 0.,\n",
       "          0., 1., 0., 0., 0., 0., 0., 0., 0., 0., 0., 0., 0., 0., 0., 0., 0.,\n",
       "          0., 0., 0., 0., 0.]],\n",
       "\n",
       "        [[0., 0., 0., 0., 1., 0., 0., 0., 0., 0., 0., 0., 0., 0., 0., 0., 0.,\n",
       "          0., 0., 0., 0., 0., 0., 0., 0., 0., 0., 0., 0., 0., 0., 0., 0., 0.,\n",
       "          0., 0., 0., 0., 0., 0., 0., 0., 0., 0., 0., 0., 0., 0., 0., 0., 0.,\n",
       "          0., 0., 0., 0., 0.]],\n",
       "\n",
       "        [[0., 0., 0., 0., 0., 1., 0., 0., 0., 0., 0., 0., 0., 0., 0., 0., 0.,\n",
       "          0., 0., 0., 0., 0., 0., 0., 0., 0., 0., 0., 0., 0., 0., 0., 0., 0.,\n",
       "          0., 0., 0., 0., 0., 0., 0., 0., 0., 0., 0., 0., 0., 0., 0., 0., 0.,\n",
       "          0., 0., 0., 0., 0.]],\n",
       "\n",
       "        [[0., 0., 0., 0., 0., 1., 0., 0., 0., 0., 0., 0., 0., 0., 0., 0., 0.,\n",
       "          0., 0., 0., 0., 0., 0., 0., 0., 0., 0., 0., 0., 0., 0., 0., 0., 0.,\n",
       "          0., 0., 0., 0., 0., 0., 0., 0., 0., 0., 0., 0., 0., 0., 0., 0., 0.,\n",
       "          0., 0., 0., 0., 0.]]])"
      ]
     },
     "execution_count": 7,
     "metadata": {},
     "output_type": "execute_result"
    }
   ],
   "source": [
    "def lineToTensor(line):\n",
    "    tensor = torch.zeros(len(line), 1, n_letters)\n",
    "    for idx, letter in enumerate(line):\n",
    "        tensor[idx, 0, letterToIndex(letter)] = 1.0\n",
    "    return tensor\n",
    "\n",
    "lineToTensor(\"Jeff\")"
   ]
  },
  {
   "cell_type": "markdown",
   "metadata": {},
   "source": [
    "# Defining the neural network"
   ]
  },
  {
   "cell_type": "code",
   "execution_count": 8,
   "metadata": {},
   "outputs": [],
   "source": [
    "import torch.nn as nn \n",
    "import torch.nn.functional as F\n",
    "\n",
    "class NameClassifyRNN(nn.Module):\n",
    "    \"\"\"\n",
    "    `input_size` here is the size of the one-shot vector representing a single letter, \n",
    "    not the length of the word.\n",
    "\n",
    "    `output_size` is the number of languages.\n",
    "    \"\"\"\n",
    "    def __init__(self, input_size, hidden_size, output_size):\n",
    "        super().__init__()\n",
    "        \n",
    "        self.input_size = input_size\n",
    "        self.hidden_size = hidden_size\n",
    "        self.output_size = output_size\n",
    "\n",
    "        self.i2h = nn.Linear(input_size, hidden_size)\n",
    "        self.h2h = nn.Linear(hidden_size, hidden_size)\n",
    "        self.h2o = nn.Linear(hidden_size, output_size)\n",
    "        self.softmax = nn.LogSoftmax(dim=1)\n",
    "        \n",
    "    \"\"\"\n",
    "    Map `(input, hidden)` to `(output, hidden)`.\n",
    "    \"\"\"\n",
    "    def forward(self, input, hidden):\n",
    "        hidden = F.tanh(self.i2h(input) + self.h2h(hidden))\n",
    "        output = self.softmax(self.h2o(hidden))\n",
    "        return output, hidden\n",
    "    \n",
    "    def initHidden(self):\n",
    "        return torch.zeros(1, self.hidden_size)"
   ]
  },
  {
   "cell_type": "code",
   "execution_count": 38,
   "metadata": {},
   "outputs": [],
   "source": [
    "n_hidden = 128\n",
    "rnn = NameClassifyRNN(n_letters, n_hidden, n_categories)"
   ]
  },
  {
   "cell_type": "markdown",
   "metadata": {},
   "source": [
    "Sanity check."
   ]
  },
  {
   "cell_type": "code",
   "execution_count": 23,
   "metadata": {},
   "outputs": [],
   "source": [
    "input = letterToTensor(\"A\")\n",
    "init_hidden = rnn.initHidden()\n",
    "output, next_hidden = rnn(input, init_hidden)"
   ]
  },
  {
   "cell_type": "code",
   "execution_count": 24,
   "metadata": {},
   "outputs": [],
   "source": [
    "input = lineToTensor(\"Albert\")\n",
    "init_hidden = rnn.initHidden()\n",
    "output, next_hidden = rnn(input[0], init_hidden)"
   ]
  },
  {
   "cell_type": "markdown",
   "metadata": {},
   "source": [
    "Some converting functions."
   ]
  },
  {
   "cell_type": "code",
   "execution_count": 25,
   "metadata": {},
   "outputs": [
    {
     "data": {
      "text/plain": [
       "('Russian', 2)"
      ]
     },
     "execution_count": 25,
     "metadata": {},
     "output_type": "execute_result"
    }
   ],
   "source": [
    "def outputToCategory(output):\n",
    "    _, top_i = output.topk(1)\n",
    "    category_idx = top_i[0].item()\n",
    "    return all_categories[category_idx], category_idx\n",
    "\n",
    "outputToCategory(output)"
   ]
  },
  {
   "cell_type": "markdown",
   "metadata": {},
   "source": [
    "# Training infrastructure"
   ]
  },
  {
   "cell_type": "code",
   "execution_count": 26,
   "metadata": {},
   "outputs": [],
   "source": [
    "import random\n",
    "\n",
    "\"\"\"\n",
    "Randomly pick up one element in `l`.\n",
    "\"\"\"\n",
    "def randomChoice(l):\n",
    "    return l[random.randint(0, len(l) - 1)]"
   ]
  },
  {
   "cell_type": "code",
   "execution_count": 27,
   "metadata": {},
   "outputs": [],
   "source": [
    "def randomTrainingExample():\n",
    "    category = randomChoice(all_categories)\n",
    "    line = randomChoice(category_lines[category])\n",
    "    category_tensor = torch.tensor([all_categories.index(category)], dtype=torch.long)\n",
    "    line_tensor = lineToTensor(line)\n",
    "    return category, line, category_tensor, line_tensor"
   ]
  },
  {
   "cell_type": "code",
   "execution_count": 31,
   "metadata": {},
   "outputs": [],
   "source": [
    "learning_rate = 0.005\n",
    "\n",
    "criterion = nn.NLLLoss()\n",
    "\n",
    "def pred(line):\n",
    "    line_tensor = lineToTensor(line)\n",
    "    hidden = rnn.initHidden()\n",
    "\n",
    "    for i in range(line_tensor.size()[0]):\n",
    "        output, hidden = rnn(line_tensor[i], hidden)        \n",
    "        \n",
    "    return outputToCategory(output)\n",
    "\n",
    "def train(category_tensor, line_tensor):\n",
    "    hidden = rnn.initHidden()\n",
    "    rnn.zero_grad()\n",
    "    \n",
    "    for i in range(line_tensor.size()[0]):\n",
    "        output, hidden = rnn(line_tensor[i], hidden)\n",
    "        \n",
    "    loss = criterion(output, category_tensor) \n",
    "    loss.backward()\n",
    "    \n",
    "    for p in rnn.parameters():\n",
    "        p.data.add_(p.grad.data, alpha=-learning_rate)\n",
    "    \n",
    "    return output, loss.item()"
   ]
  },
  {
   "cell_type": "markdown",
   "metadata": {},
   "source": [
    "# Training"
   ]
  },
  {
   "cell_type": "code",
   "execution_count": 39,
   "metadata": {},
   "outputs": [
    {
     "name": "stdout",
     "output_type": "stream",
     "text": [
      "   5000  2% (   0m 5s) 2.4956 Gibson / Russian ✗ (Scottish)\n",
      "  10000  5% (   0m 9s) 1.2151 Meeuwsen / Dutch ✓\n",
      "  15000  7% (  0m 14s) 3.0248 Walters / Dutch ✗ (English)\n",
      "  20000 10% (  0m 18s) 1.3001 Bohler / German ✓\n",
      "  25000 12% (  0m 23s) 2.6013 Denend / Scottish ✗ (Dutch)\n",
      "  30000 15% (  0m 27s) 2.6097 Smith / Irish ✗ (Scottish)\n",
      "  35000 17% (  0m 31s) 0.3714 Pantelas / Greek ✓\n",
      "  40000 20% (  0m 36s) 1.5156 Lian / Irish ✗ (Chinese)\n",
      "  45000 22% (  0m 40s) 0.3550 Napoletani / Italian ✓\n",
      "  50000 25% (  0m 45s) 1.4112 Spence / English ✓\n",
      "  55000 27% (  0m 49s) 0.3078 Paterson / Scottish ✓\n",
      "  60000 30% (  0m 54s) 0.7178 Gutermuth / German ✓\n",
      "  65000 32% (  0m 58s) 1.5128 Tchekvin / German ✗ (Russian)\n",
      "  70000 35% (   1m 3s) 0.7634 Rebka / Polish ✗ (Czech)\n",
      "  75000 37% (   1m 7s) 0.0854 Mccallum / Scottish ✓\n",
      "  80000 40% (  1m 11s) 0.2064 Mifsud / Arabic ✓\n",
      "  85000 42% (  1m 16s) 4.0456 DanShin / Irish ✗ (Russian)\n",
      "  90000 45% (  1m 20s) 0.6208 Mercier / French ✓\n",
      "  95000 47% (  1m 25s) 0.1828 Sheludko / Russian ✓\n",
      " 100000 50% (  1m 29s) 0.0442 OLeary / Irish ✓\n",
      " 105000 52% (  1m 34s) 0.0305 Konishi / Japanese ✓\n",
      " 110000 55% (  1m 38s) 2.2718 Cen / Korean ✗ (Chinese)\n",
      " 115000 57% (  1m 42s) 1.1467 Goto / Italian ✗ (Japanese)\n",
      " 120000 60% (  1m 47s) 0.6200 Ryskamp / Dutch ✓\n",
      " 125000 62% (  1m 51s) 2.1559 Schubert / German ✗ (Czech)\n",
      " 130000 65% (  1m 56s) 0.0648 Jelen / Polish ✓\n",
      " 135000 67% (   2m 0s) 1.0097 Ma / Korean ✗ (Vietnamese)\n",
      " 140000 70% (   2m 5s) 1.1622 Quintana / Italian ✗ (Spanish)\n",
      " 145000 72% (   2m 9s) 0.2263 Bazzi / Arabic ✓\n",
      " 150000 75% (  2m 14s) 1.2162 Nifterick / Czech ✗ (Dutch)\n",
      " 155000 77% (  2m 18s) 0.0954 Baik / Korean ✓\n",
      " 160000 80% (  2m 23s) 0.1554 Mihalsky / Russian ✓\n",
      " 165000 82% (  2m 27s) 0.1069 Albuquerque / Portuguese ✓\n",
      " 170000 85% (  2m 32s) 0.0041 Rademakers / Dutch ✓\n",
      " 175000 87% (  2m 36s) 0.5709 Register / Irish ✓\n",
      " 180000 90% (  2m 41s) 2.8454 Silva / Portuguese ✗ (Spanish)\n",
      " 185000 92% (  2m 45s) 0.2491 Agteren / Dutch ✓\n",
      " 190000 95% (  2m 50s) 0.0272 Ellans / English ✓\n",
      " 195000 97% (  2m 54s) 0.0601 Yin / Chinese ✓\n",
      " 200000 100% (  2m 58s) 0.2946 Kelly / Scottish ✓\n"
     ]
    }
   ],
   "source": [
    "import time\n",
    "import math\n",
    "\n",
    "n_iters = 200000\n",
    "print_every = 5000\n",
    "plot_every = 1000\n",
    "\n",
    "\n",
    "\n",
    "# Keep track of losses for plotting\n",
    "current_loss = 0\n",
    "all_losses = []\n",
    "\n",
    "def timeSince(since):\n",
    "    now = time.time()\n",
    "    s = now - since\n",
    "    m = math.floor(s / 60)\n",
    "    s -= m * 60\n",
    "    return '%dm %ds' % (m, s)\n",
    "\n",
    "start = time.time()\n",
    "\n",
    "for iter in range(1, n_iters + 1):\n",
    "    category, line, category_tensor, line_tensor = randomTrainingExample()\n",
    "    output, loss = train(category_tensor, line_tensor)\n",
    "    current_loss += loss\n",
    "\n",
    "    # Print ``iter`` number, loss, name and guess\n",
    "    if iter % print_every == 0:\n",
    "        guess, guess_i = outputToCategory(output)\n",
    "        correct = '✓' if guess == category else '✗ (%s)' % category\n",
    "        print('%7d %2d%% (%8s) %6.4f %s / %s %s' % (iter, iter / n_iters * 100, timeSince(start), loss, line, guess, correct))\n",
    "\n",
    "    # Add current loss avg to list of losses\n",
    "    if iter % plot_every == 0:\n",
    "        all_losses.append(current_loss / plot_every)\n",
    "        current_loss = 0"
   ]
  },
  {
   "cell_type": "code",
   "execution_count": 40,
   "metadata": {},
   "outputs": [
    {
     "data": {
      "text/plain": [
       "[<matplotlib.lines.Line2D at 0x7f1eb0226c30>]"
      ]
     },
     "execution_count": 40,
     "metadata": {},
     "output_type": "execute_result"
    },
    {
     "data": {
      "image/png": "[encoded data removed]",
      "text/plain": [
       "<Figure size 640x480 with 1 Axes>"
      ]
     },
     "metadata": {},
     "output_type": "display_data"
    }
   ],
   "source": [
    "import matplotlib.pyplot as plt \n",
    "plt.plot(all_losses)"
   ]
  },
  {
   "cell_type": "markdown",
   "metadata": {},
   "source": [
    "# Testing"
   ]
  },
  {
   "cell_type": "code",
   "execution_count": 47,
   "metadata": {},
   "outputs": [
    {
     "data": {
      "text/plain": [
       "('Czech', 1)"
      ]
     },
     "execution_count": 47,
     "metadata": {},
     "output_type": "execute_result"
    }
   ],
   "source": [
    "pred(\"Smith\")"
   ]
  },
  {
   "cell_type": "code",
   "execution_count": 1,
   "metadata": {},
   "outputs": [
    {
     "ename": "NameError",
     "evalue": "name 'category_lines' is not defined",
     "output_type": "error",
     "traceback": [
      "\u001b[0;31m---------------------------------------------------------------------------\u001b[0m",
      "\u001b[0;31mNameError\u001b[0m                                 Traceback (most recent call last)",
      "Cell \u001b[0;32mIn[1], line 1\u001b[0m\n\u001b[0;32m----> 1\u001b[0m \u001b[38;5;28menumerate\u001b[39m(\u001b[43mcategory_lines\u001b[49m)\n",
      "\u001b[0;31mNameError\u001b[0m: name 'category_lines' is not defined"
     ]
    }
   ],
   "source": [
    "enumerate(category_lines)"
   ]
  },
  {
   "cell_type": "code",
   "execution_count": null,
   "metadata": {},
   "outputs": [],
   "source": []
  }
 ],
 "metadata": {
  "kernelspec": {
   "display_name": "torch",
   "language": "python",
   "name": "python3"
  },
  "language_info": {
   "codemirror_mode": {
    "name": "ipython",
    "version": 3
   },
   "file_extension": ".py",
   "mimetype": "text/x-python",
   "name": "python",
   "nbconvert_exporter": "python",
   "pygments_lexer": "ipython3",
   "version": "3.1.0"
  }
 },
 "nbformat": 4,
 "nbformat_minor": 2
}
